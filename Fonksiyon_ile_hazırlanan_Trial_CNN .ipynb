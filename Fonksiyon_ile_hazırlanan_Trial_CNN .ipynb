{
 "cells": [
  {
   "cell_type": "code",
   "execution_count": 21,
   "id": "55152951",
   "metadata": {},
   "outputs": [
    {
     "ename": "ModuleNotFoundError",
     "evalue": "No module named 'keras'",
     "output_type": "error",
     "traceback": [
      "\u001b[1;31m---------------------------------------------------------------------------\u001b[0m",
      "\u001b[1;31mModuleNotFoundError\u001b[0m                       Traceback (most recent call last)",
      "Input \u001b[1;32mIn [21]\u001b[0m, in \u001b[0;36m<cell line: 6>\u001b[1;34m()\u001b[0m\n\u001b[0;32m      3\u001b[0m \u001b[38;5;28;01mimport\u001b[39;00m \u001b[38;5;21;01mpandas\u001b[39;00m \u001b[38;5;28;01mas\u001b[39;00m \u001b[38;5;21;01mpd\u001b[39;00m\n\u001b[0;32m      5\u001b[0m \u001b[38;5;28;01mfrom\u001b[39;00m \u001b[38;5;21;01msklearn\u001b[39;00m\u001b[38;5;21;01m.\u001b[39;00m\u001b[38;5;21;01mpreprocessing\u001b[39;00m \u001b[38;5;28;01mimport\u001b[39;00m MinMaxScaler\n\u001b[1;32m----> 6\u001b[0m \u001b[38;5;28;01mfrom\u001b[39;00m \u001b[38;5;21;01mkeras\u001b[39;00m\u001b[38;5;21;01m.\u001b[39;00m\u001b[38;5;21;01mpreprocessing\u001b[39;00m\u001b[38;5;21;01m.\u001b[39;00m\u001b[38;5;21;01msequence\u001b[39;00m \u001b[38;5;28;01mimport\u001b[39;00m TimeseriesGenerator\n\u001b[0;32m      7\u001b[0m \u001b[38;5;28;01mfrom\u001b[39;00m \u001b[38;5;21;01msklearn\u001b[39;00m \u001b[38;5;28;01mimport\u001b[39;00m metrics\n\u001b[0;32m      9\u001b[0m \u001b[38;5;28;01mimport\u001b[39;00m \u001b[38;5;21;01mkeras\u001b[39;00m\n",
      "\u001b[1;31mModuleNotFoundError\u001b[0m: No module named 'keras'"
     ]
    }
   ],
   "source": [
    "import numpy as np\n",
    "import matplotlib.pyplot as plt\n",
    "import pandas as pd\n",
    "\n",
    "from sklearn.preprocessing import MinMaxScaler\n",
    "from keras.preprocessing.sequence import TimeseriesGenerator\n",
    "from sklearn import metrics\n",
    "\n",
    "import keras\n",
    "from keras.models import Sequential\n",
    "from keras.layers import Dense, Conv2D, Flatten\n",
    "\n",
    "#from tensorflow.keras.models import Sequential\n",
    "#from tensorflow.keras.layers import Dense, Flatten, Conv2D"
   ]
  },
  {
   "cell_type": "markdown",
   "id": "5c588128",
   "metadata": {},
   "source": [
    "# Evrişimsel Sinir Ağları (CNN) ile Veriyi Hazırlama"
   ]
  },
  {
   "cell_type": "markdown",
   "id": "3b78afb0",
   "metadata": {},
   "source": [
    "CNN, bir girdi görüntüsünü alıp, görüntüdeki çeşitli görünüşleri/nesneleri birbirinden ayırabilen derin öğrenme algoritmasıdır. Temel olarak görüntüleri sınıflandırmak (örneğin gördüklerini isimlendirmek), benzerlikle kümelemek (fotoğraf arama) ve sahnelerde nesne tanıma yapmak için kullanılan derin yapay sinir ağlarıdır."
   ]
  },
  {
   "cell_type": "code",
   "execution_count": 10,
   "id": "09fa50be",
   "metadata": {},
   "outputs": [
    {
     "data": {
      "text/html": [
       "<div>\n",
       "<style scoped>\n",
       "    .dataframe tbody tr th:only-of-type {\n",
       "        vertical-align: middle;\n",
       "    }\n",
       "\n",
       "    .dataframe tbody tr th {\n",
       "        vertical-align: top;\n",
       "    }\n",
       "\n",
       "    .dataframe thead th {\n",
       "        text-align: right;\n",
       "    }\n",
       "</style>\n",
       "<table border=\"1\" class=\"dataframe\">\n",
       "  <thead>\n",
       "    <tr style=\"text-align: right;\">\n",
       "      <th></th>\n",
       "      <th>Cycle</th>\n",
       "      <th>SensorMeasure2</th>\n",
       "      <th>SensorMeasure3</th>\n",
       "      <th>SensorMeasure4</th>\n",
       "      <th>SensorMeasure7</th>\n",
       "      <th>SensorMeasure8</th>\n",
       "      <th>SensorMeasure11</th>\n",
       "      <th>SensorMeasure12</th>\n",
       "      <th>SensorMeasure13</th>\n",
       "      <th>SensorMeasure15</th>\n",
       "      <th>SensorMeasure17</th>\n",
       "      <th>SensorMeasure20</th>\n",
       "      <th>SensorMeasure21</th>\n",
       "      <th>RUL</th>\n",
       "    </tr>\n",
       "  </thead>\n",
       "  <tbody>\n",
       "    <tr>\n",
       "      <th>9711</th>\n",
       "      <td>1</td>\n",
       "      <td>642.12</td>\n",
       "      <td>1582.50</td>\n",
       "      <td>1400.44</td>\n",
       "      <td>553.76</td>\n",
       "      <td>2388.05</td>\n",
       "      <td>47.31</td>\n",
       "      <td>521.97</td>\n",
       "      <td>2388.08</td>\n",
       "      <td>8.4366</td>\n",
       "      <td>394</td>\n",
       "      <td>38.96</td>\n",
       "      <td>23.3947</td>\n",
       "      <td>197</td>\n",
       "    </tr>\n",
       "    <tr>\n",
       "      <th>9712</th>\n",
       "      <td>2</td>\n",
       "      <td>642.62</td>\n",
       "      <td>1589.90</td>\n",
       "      <td>1404.14</td>\n",
       "      <td>554.52</td>\n",
       "      <td>2388.02</td>\n",
       "      <td>47.31</td>\n",
       "      <td>522.27</td>\n",
       "      <td>2388.02</td>\n",
       "      <td>8.4211</td>\n",
       "      <td>394</td>\n",
       "      <td>38.91</td>\n",
       "      <td>23.4594</td>\n",
       "      <td>196</td>\n",
       "    </tr>\n",
       "    <tr>\n",
       "      <th>9713</th>\n",
       "      <td>3</td>\n",
       "      <td>642.55</td>\n",
       "      <td>1582.75</td>\n",
       "      <td>1403.42</td>\n",
       "      <td>554.26</td>\n",
       "      <td>2388.04</td>\n",
       "      <td>47.41</td>\n",
       "      <td>522.40</td>\n",
       "      <td>2388.04</td>\n",
       "      <td>8.3931</td>\n",
       "      <td>392</td>\n",
       "      <td>38.97</td>\n",
       "      <td>23.3230</td>\n",
       "      <td>195</td>\n",
       "    </tr>\n",
       "    <tr>\n",
       "      <th>9714</th>\n",
       "      <td>4</td>\n",
       "      <td>642.61</td>\n",
       "      <td>1586.91</td>\n",
       "      <td>1403.46</td>\n",
       "      <td>554.56</td>\n",
       "      <td>2388.05</td>\n",
       "      <td>47.46</td>\n",
       "      <td>522.25</td>\n",
       "      <td>2388.08</td>\n",
       "      <td>8.4286</td>\n",
       "      <td>393</td>\n",
       "      <td>38.91</td>\n",
       "      <td>23.3886</td>\n",
       "      <td>194</td>\n",
       "    </tr>\n",
       "    <tr>\n",
       "      <th>9715</th>\n",
       "      <td>5</td>\n",
       "      <td>642.41</td>\n",
       "      <td>1589.70</td>\n",
       "      <td>1401.43</td>\n",
       "      <td>554.26</td>\n",
       "      <td>2388.05</td>\n",
       "      <td>47.33</td>\n",
       "      <td>522.10</td>\n",
       "      <td>2388.00</td>\n",
       "      <td>8.4295</td>\n",
       "      <td>394</td>\n",
       "      <td>38.98</td>\n",
       "      <td>23.3340</td>\n",
       "      <td>193</td>\n",
       "    </tr>\n",
       "    <tr>\n",
       "      <th>...</th>\n",
       "      <td>...</td>\n",
       "      <td>...</td>\n",
       "      <td>...</td>\n",
       "      <td>...</td>\n",
       "      <td>...</td>\n",
       "      <td>...</td>\n",
       "      <td>...</td>\n",
       "      <td>...</td>\n",
       "      <td>...</td>\n",
       "      <td>...</td>\n",
       "      <td>...</td>\n",
       "      <td>...</td>\n",
       "      <td>...</td>\n",
       "      <td>...</td>\n",
       "    </tr>\n",
       "    <tr>\n",
       "      <th>9904</th>\n",
       "      <td>194</td>\n",
       "      <td>643.77</td>\n",
       "      <td>1604.93</td>\n",
       "      <td>1423.51</td>\n",
       "      <td>551.41</td>\n",
       "      <td>2388.18</td>\n",
       "      <td>48.16</td>\n",
       "      <td>519.85</td>\n",
       "      <td>2388.19</td>\n",
       "      <td>8.5043</td>\n",
       "      <td>396</td>\n",
       "      <td>38.42</td>\n",
       "      <td>23.0543</td>\n",
       "      <td>4</td>\n",
       "    </tr>\n",
       "    <tr>\n",
       "      <th>9905</th>\n",
       "      <td>195</td>\n",
       "      <td>643.33</td>\n",
       "      <td>1605.31</td>\n",
       "      <td>1434.87</td>\n",
       "      <td>551.25</td>\n",
       "      <td>2388.17</td>\n",
       "      <td>48.14</td>\n",
       "      <td>519.33</td>\n",
       "      <td>2388.21</td>\n",
       "      <td>8.5352</td>\n",
       "      <td>395</td>\n",
       "      <td>38.45</td>\n",
       "      <td>23.0191</td>\n",
       "      <td>3</td>\n",
       "    </tr>\n",
       "    <tr>\n",
       "      <th>9906</th>\n",
       "      <td>196</td>\n",
       "      <td>643.32</td>\n",
       "      <td>1602.26</td>\n",
       "      <td>1430.01</td>\n",
       "      <td>551.40</td>\n",
       "      <td>2388.19</td>\n",
       "      <td>48.24</td>\n",
       "      <td>519.88</td>\n",
       "      <td>2388.17</td>\n",
       "      <td>8.5034</td>\n",
       "      <td>395</td>\n",
       "      <td>38.45</td>\n",
       "      <td>23.0379</td>\n",
       "      <td>2</td>\n",
       "    </tr>\n",
       "    <tr>\n",
       "      <th>9907</th>\n",
       "      <td>197</td>\n",
       "      <td>643.73</td>\n",
       "      <td>1599.94</td>\n",
       "      <td>1432.87</td>\n",
       "      <td>551.18</td>\n",
       "      <td>2388.19</td>\n",
       "      <td>48.22</td>\n",
       "      <td>519.48</td>\n",
       "      <td>2388.20</td>\n",
       "      <td>8.5241</td>\n",
       "      <td>397</td>\n",
       "      <td>38.52</td>\n",
       "      <td>23.0832</td>\n",
       "      <td>1</td>\n",
       "    </tr>\n",
       "    <tr>\n",
       "      <th>9908</th>\n",
       "      <td>198</td>\n",
       "      <td>643.83</td>\n",
       "      <td>1608.20</td>\n",
       "      <td>1433.88</td>\n",
       "      <td>552.06</td>\n",
       "      <td>2388.20</td>\n",
       "      <td>48.01</td>\n",
       "      <td>520.00</td>\n",
       "      <td>2388.25</td>\n",
       "      <td>8.5002</td>\n",
       "      <td>396</td>\n",
       "      <td>38.43</td>\n",
       "      <td>23.1086</td>\n",
       "      <td>0</td>\n",
       "    </tr>\n",
       "  </tbody>\n",
       "</table>\n",
       "<p>198 rows × 14 columns</p>\n",
       "</div>"
      ],
      "text/plain": [
       "      Cycle  SensorMeasure2  SensorMeasure3  SensorMeasure4  SensorMeasure7  \\\n",
       "9711      1          642.12         1582.50         1400.44          553.76   \n",
       "9712      2          642.62         1589.90         1404.14          554.52   \n",
       "9713      3          642.55         1582.75         1403.42          554.26   \n",
       "9714      4          642.61         1586.91         1403.46          554.56   \n",
       "9715      5          642.41         1589.70         1401.43          554.26   \n",
       "...     ...             ...             ...             ...             ...   \n",
       "9904    194          643.77         1604.93         1423.51          551.41   \n",
       "9905    195          643.33         1605.31         1434.87          551.25   \n",
       "9906    196          643.32         1602.26         1430.01          551.40   \n",
       "9907    197          643.73         1599.94         1432.87          551.18   \n",
       "9908    198          643.83         1608.20         1433.88          552.06   \n",
       "\n",
       "      SensorMeasure8  SensorMeasure11  SensorMeasure12  SensorMeasure13  \\\n",
       "9711         2388.05            47.31           521.97          2388.08   \n",
       "9712         2388.02            47.31           522.27          2388.02   \n",
       "9713         2388.04            47.41           522.40          2388.04   \n",
       "9714         2388.05            47.46           522.25          2388.08   \n",
       "9715         2388.05            47.33           522.10          2388.00   \n",
       "...              ...              ...              ...              ...   \n",
       "9904         2388.18            48.16           519.85          2388.19   \n",
       "9905         2388.17            48.14           519.33          2388.21   \n",
       "9906         2388.19            48.24           519.88          2388.17   \n",
       "9907         2388.19            48.22           519.48          2388.20   \n",
       "9908         2388.20            48.01           520.00          2388.25   \n",
       "\n",
       "      SensorMeasure15  SensorMeasure17  SensorMeasure20  SensorMeasure21  RUL  \n",
       "9711           8.4366              394            38.96          23.3947  197  \n",
       "9712           8.4211              394            38.91          23.4594  196  \n",
       "9713           8.3931              392            38.97          23.3230  195  \n",
       "9714           8.4286              393            38.91          23.3886  194  \n",
       "9715           8.4295              394            38.98          23.3340  193  \n",
       "...               ...              ...              ...              ...  ...  \n",
       "9904           8.5043              396            38.42          23.0543    4  \n",
       "9905           8.5352              395            38.45          23.0191    3  \n",
       "9906           8.5034              395            38.45          23.0379    2  \n",
       "9907           8.5241              397            38.52          23.0832    1  \n",
       "9908           8.5002              396            38.43          23.1086    0  \n",
       "\n",
       "[198 rows x 14 columns]"
      ]
     },
     "execution_count": 10,
     "metadata": {},
     "output_type": "execute_result"
    }
   ],
   "source": [
    "Train_no = 1\n",
    "engine_id = 50\n",
    "\n",
    "df = pd.read_csv(\"Processed_Train_00{}.csv\".format(Train_no))\n",
    "df = df[df['ID'] == engine_id]\n",
    "df = df.drop(columns = ['ID'])\n",
    "\n",
    "df"
   ]
  },
  {
   "cell_type": "code",
   "execution_count": 12,
   "id": "98f7a3c5",
   "metadata": {},
   "outputs": [
    {
     "name": "stdout",
     "output_type": "stream",
     "text": [
      "Shape of df for engine 50: (198, 14)\n"
     ]
    },
    {
     "data": {
      "text/plain": [
       "array([[0.        , 0.14222222, 0.19258561, ..., 0.78571429, 0.82617801,\n",
       "        1.        ],\n",
       "       [0.00507614, 0.36444444, 0.42507069, ..., 0.72619048, 0.96167539,\n",
       "        0.99492386],\n",
       "       [0.01015228, 0.33333333, 0.20043984, ..., 0.79761905, 0.67602094,\n",
       "        0.98984772],\n",
       "       ...,\n",
       "       [0.98984772, 0.67555556, 0.8133836 , ..., 0.17857143, 0.07895288,\n",
       "        0.01015228],\n",
       "       [0.99492386, 0.85777778, 0.74049639, ..., 0.26190476, 0.17382199,\n",
       "        0.00507614],\n",
       "       [1.        , 0.90222222, 1.        , ..., 0.1547619 , 0.22701571,\n",
       "        0.        ]])"
      ]
     },
     "execution_count": 12,
     "metadata": {},
     "output_type": "execute_result"
    }
   ],
   "source": [
    "########## Scalling the Data\n",
    "scaler = MinMaxScaler()\n",
    "df = scaler.fit_transform(df)\n",
    "print('Shape of df for engine {}:'.format(engine_id),df.shape)\n",
    "df"
   ]
  },
  {
   "cell_type": "code",
   "execution_count": 13,
   "id": "e7751fb6",
   "metadata": {},
   "outputs": [
    {
     "data": {
      "text/plain": [
       "array([1.        , 0.99492386, 0.98984772, 0.98477157, 0.97969543,\n",
       "       0.97461929, 0.96954315, 0.96446701, 0.95939086, 0.95431472,\n",
       "       0.94923858, 0.94416244, 0.93908629, 0.93401015, 0.92893401,\n",
       "       0.92385787, 0.91878173, 0.91370558, 0.90862944, 0.9035533 ,\n",
       "       0.89847716, 0.89340102, 0.88832487, 0.88324873, 0.87817259,\n",
       "       0.87309645, 0.8680203 , 0.86294416, 0.85786802, 0.85279188,\n",
       "       0.84771574, 0.84263959, 0.83756345, 0.83248731, 0.82741117,\n",
       "       0.82233503, 0.81725888, 0.81218274, 0.8071066 , 0.80203046,\n",
       "       0.79695431, 0.79187817, 0.78680203, 0.78172589, 0.77664975,\n",
       "       0.7715736 , 0.76649746, 0.76142132, 0.75634518, 0.75126904,\n",
       "       0.74619289, 0.74111675, 0.73604061, 0.73096447, 0.72588832,\n",
       "       0.72081218, 0.71573604, 0.7106599 , 0.70558376, 0.70050761,\n",
       "       0.69543147, 0.69035533, 0.68527919, 0.68020305, 0.6751269 ,\n",
       "       0.67005076, 0.66497462, 0.65989848, 0.65482234, 0.64974619,\n",
       "       0.64467005, 0.63959391, 0.63451777, 0.62944162, 0.62436548,\n",
       "       0.61928934, 0.6142132 , 0.60913706, 0.60406091, 0.59898477,\n",
       "       0.59390863, 0.58883249, 0.58375635, 0.5786802 , 0.57360406,\n",
       "       0.56852792, 0.56345178, 0.55837563, 0.55329949, 0.54822335,\n",
       "       0.54314721, 0.53807107, 0.53299492, 0.52791878, 0.52284264,\n",
       "       0.5177665 , 0.51269036, 0.50761421, 0.50253807, 0.49746193,\n",
       "       0.49238579, 0.48730964, 0.4822335 , 0.47715736, 0.47208122,\n",
       "       0.46700508, 0.46192893, 0.45685279, 0.45177665, 0.44670051,\n",
       "       0.44162437, 0.43654822, 0.43147208, 0.42639594, 0.4213198 ,\n",
       "       0.41624365, 0.41116751, 0.40609137, 0.40101523, 0.39593909,\n",
       "       0.39086294, 0.3857868 , 0.38071066, 0.37563452, 0.37055838,\n",
       "       0.36548223, 0.36040609, 0.35532995, 0.35025381, 0.34517766,\n",
       "       0.34010152, 0.33502538, 0.32994924, 0.3248731 , 0.31979695,\n",
       "       0.31472081, 0.30964467, 0.30456853, 0.29949239, 0.29441624,\n",
       "       0.2893401 , 0.28426396, 0.27918782, 0.27411168, 0.26903553,\n",
       "       0.26395939, 0.25888325, 0.25380711, 0.24873096, 0.24365482,\n",
       "       0.23857868, 0.23350254, 0.2284264 , 0.22335025, 0.21827411,\n",
       "       0.21319797, 0.20812183, 0.20304569, 0.19796954, 0.1928934 ,\n",
       "       0.18781726, 0.18274112, 0.17766497, 0.17258883, 0.16751269,\n",
       "       0.16243655, 0.15736041, 0.15228426, 0.14720812, 0.14213198,\n",
       "       0.13705584, 0.1319797 , 0.12690355, 0.12182741, 0.11675127,\n",
       "       0.11167513, 0.10659898, 0.10152284, 0.0964467 , 0.09137056,\n",
       "       0.08629442, 0.08121827, 0.07614213, 0.07106599, 0.06598985,\n",
       "       0.06091371, 0.05583756, 0.05076142, 0.04568528, 0.04060914,\n",
       "       0.03553299, 0.03045685, 0.02538071, 0.02030457, 0.01522843,\n",
       "       0.01015228, 0.00507614, 0.        ])"
      ]
     },
     "execution_count": 13,
     "metadata": {},
     "output_type": "execute_result"
    }
   ],
   "source": [
    "########### Getting into training shape with slidingwindows\n",
    "features = df[:,0:-1]\n",
    "target = df[:,-1]\n",
    "target"
   ]
  },
  {
   "cell_type": "code",
   "execution_count": 17,
   "id": "f8b71b70",
   "metadata": {},
   "outputs": [
    {
     "ename": "NameError",
     "evalue": "name 'TimeseriesGenerator' is not defined",
     "output_type": "error",
     "traceback": [
      "\u001b[1;31m---------------------------------------------------------------------------\u001b[0m",
      "\u001b[1;31mNameError\u001b[0m                                 Traceback (most recent call last)",
      "Input \u001b[1;32mIn [17]\u001b[0m, in \u001b[0;36m<cell line: 4>\u001b[1;34m()\u001b[0m\n\u001b[0;32m      1\u001b[0m win_length \u001b[38;5;241m=\u001b[39m \u001b[38;5;241m25\u001b[39m \u001b[38;5;66;03m#### Sliding Window Length (Aşağıya doğru 25 satır)\u001b[39;00m\n\u001b[0;32m      2\u001b[0m feature_num \u001b[38;5;241m=\u001b[39m \u001b[38;5;241m13\u001b[39m \u001b[38;5;66;03m#### Total number of features (Yana doğru 13 sütun)\u001b[39;00m\n\u001b[1;32m----> 4\u001b[0m ts_generator \u001b[38;5;241m=\u001b[39m \u001b[43mTimeseriesGenerator\u001b[49m(features, target, length \u001b[38;5;241m=\u001b[39m win_length, sampling_rate \u001b[38;5;241m=\u001b[39m \u001b[38;5;241m1\u001b[39m, batch_size \u001b[38;5;241m=\u001b[39m \u001b[38;5;241m1\u001b[39m)\n",
      "\u001b[1;31mNameError\u001b[0m: name 'TimeseriesGenerator' is not defined"
     ]
    }
   ],
   "source": [
    "win_length = 25 #### Sliding Window Length (Aşağıya doğru 25 satır)\n",
    "feature_num = 13 #### Total number of features (Yana doğru 13 sütun)\n",
    "\n",
    "ts_generator = TimeseriesGenerator(features, target, length = win_length, sampling_rate = 1, batch_size = 1)"
   ]
  },
  {
   "cell_type": "code",
   "execution_count": null,
   "id": "6cf071b0",
   "metadata": {},
   "outputs": [],
   "source": [
    "ts_generator[0]"
   ]
  },
  {
   "cell_type": "code",
   "execution_count": 16,
   "id": "013f5831",
   "metadata": {},
   "outputs": [
    {
     "ename": "NameError",
     "evalue": "name 'ts_generator' is not defined",
     "output_type": "error",
     "traceback": [
      "\u001b[1;31m---------------------------------------------------------------------------\u001b[0m",
      "\u001b[1;31mNameError\u001b[0m                                 Traceback (most recent call last)",
      "Input \u001b[1;32mIn [16]\u001b[0m, in \u001b[0;36m<cell line: 1>\u001b[1;34m()\u001b[0m\n\u001b[1;32m----> 1\u001b[0m \u001b[38;5;28mprint\u001b[39m(\u001b[38;5;124m'\u001b[39m\u001b[38;5;124mGirdi özelliğinin şekli\u001b[39m\u001b[38;5;124m'\u001b[39m, np\u001b[38;5;241m.\u001b[39mshape(\u001b[43mts_generator\u001b[49m[\u001b[38;5;241m0\u001b[39m][\u001b[38;5;241m0\u001b[39m]))\n\u001b[0;32m      2\u001b[0m \u001b[38;5;28mprint\u001b[39m((ts_generator[\u001b[38;5;241m0\u001b[39m][\u001b[38;5;241m0\u001b[39m]))\n\u001b[0;32m      3\u001b[0m \u001b[38;5;28mprint\u001b[39m(\u001b[38;5;124m'\u001b[39m\u001b[38;5;130;01m\\n\u001b[39;00m\u001b[38;5;124m'\u001b[39m)\n",
      "\u001b[1;31mNameError\u001b[0m: name 'ts_generator' is not defined"
     ]
    }
   ],
   "source": [
    "print('Girdi özelliğinin şekli', np.shape(ts_generator[0][0]))\n",
    "print((ts_generator[0][0]))\n",
    "print('\\n')\n",
    "print('Çıktı değerinin şekli', np.shape(ts_generator[0][1]))\n",
    "print((ts_generator[0][1]))"
   ]
  },
  {
   "cell_type": "code",
   "execution_count": 23,
   "id": "93719433",
   "metadata": {},
   "outputs": [
    {
     "ename": "NameError",
     "evalue": "name 'ts_generator' is not defined",
     "output_type": "error",
     "traceback": [
      "\u001b[1;31m---------------------------------------------------------------------------\u001b[0m",
      "\u001b[1;31mNameError\u001b[0m                                 Traceback (most recent call last)",
      "Input \u001b[1;32mIn [23]\u001b[0m, in \u001b[0;36m<cell line: 4>\u001b[1;34m()\u001b[0m\n\u001b[0;32m      1\u001b[0m X \u001b[38;5;241m=\u001b[39m []\n\u001b[0;32m      2\u001b[0m y \u001b[38;5;241m=\u001b[39m []\n\u001b[1;32m----> 4\u001b[0m x_temp, y_temp \u001b[38;5;241m=\u001b[39m \u001b[43mts_generator\u001b[49m[\u001b[38;5;241m0\u001b[39m]\n\u001b[0;32m      5\u001b[0m X\u001b[38;5;241m.\u001b[39mappend(x_temp\u001b[38;5;241m.\u001b[39mreshape(x_temp\u001b[38;5;241m.\u001b[39mshape[\u001b[38;5;241m1\u001b[39m], x_temp\u001b[38;5;241m.\u001b[39mshape[\u001b[38;5;241m2\u001b[39m],\u001b[38;5;241m1\u001b[39m))\n\u001b[0;32m      6\u001b[0m y\u001b[38;5;241m.\u001b[39mappend(y_temp)\n",
      "\u001b[1;31mNameError\u001b[0m: name 'ts_generator' is not defined"
     ]
    }
   ],
   "source": [
    "X = []\n",
    "y = []\n",
    "\n",
    "x_temp, y_temp = ts_generator[0]\n",
    "X.append(x_temp.reshape(x_temp.shape[1], x_temp.shape[2],1))\n",
    "y.append(y_temp)\n",
    "\n",
    "print(X)\n",
    "print(y)"
   ]
  },
  {
   "cell_type": "markdown",
   "id": "3fb05d33",
   "metadata": {},
   "source": [
    "**Buraya kadar yaptığımız kısımları fonksiyon haline getiriyoruz ve bu şekilde daha düzenli ve kolay ulaşabiliyor oluyor.**"
   ]
  },
  {
   "cell_type": "code",
   "execution_count": 24,
   "id": "49cdd080",
   "metadata": {},
   "outputs": [
    {
     "ename": "SyntaxError",
     "evalue": "unmatched ']' (1351765988.py, line 6)",
     "output_type": "error",
     "traceback": [
      "\u001b[1;36m  Input \u001b[1;32mIn [24]\u001b[1;36m\u001b[0m\n\u001b[1;33m    df = df[df['ID']] == engine_id]\u001b[0m\n\u001b[1;37m                                  ^\u001b[0m\n\u001b[1;31mSyntaxError\u001b[0m\u001b[1;31m:\u001b[0m unmatched ']'\n"
     ]
    }
   ],
   "source": [
    "\n",
    "def Data_format_conversion(Train_no, engine_id):\n",
    "    \n",
    "    import pandas as pd\n",
    "    import numpy as np\n",
    "    df = pd.read_csv(\"Processed_Train_00{}.csv\".format(Train_no))\n",
    "    df = df[df['ID']] == engine_id]\n",
    "    df = df.drop(columns = ['ID'])\n",
    "    \n",
    "    ################ Scalling the Data\n",
    "    scaler = MinMaxScaler()\n",
    "    df = scaler.fit_transform(df)\n",
    "    print('Shape of df for engine {}: '.format(engine_id),df.shape)\n",
    "    \n",
    "    ################ Getting into training shape with slidingwindow\n",
    "    features = df[:,0:-1]\n",
    "    target = df[:,-1]\n",
    "    \n",
    "    ts_generator = TimeseriesGenerator(features, target, length = win_length, sampling_rate = 1, batch_size = 1)\n",
    "    \n",
    "    ################\n",
    "    X = []\n",
    "    y = []\n",
    "    for i in range(len(ts_generator)):\n",
    "        x_temp, y_temp = ts_generator[i]\n",
    "        x.append(x_temp.reshape(x_temp.shape[1], x_temp.shape[2],1))\n",
    "        y.append(y_temp)\n",
    "        \n",
    "    X=np.array(X)\n",
    "    y = np.array(y)\n",
    "    \n",
    "    return(X,y,scaler,features)"
   ]
  },
  {
   "cell_type": "markdown",
   "id": "77744b1a",
   "metadata": {},
   "source": [
    "# CNN Modelini Eğitme"
   ]
  },
  {
   "cell_type": "code",
   "execution_count": null,
   "id": "8976df96",
   "metadata": {},
   "outputs": [],
   "source": [
    "win_length = 25 #### Sliding Window Length\n",
    "feature_num = 13 #### Total number of features\n",
    "\n",
    "model = Sequential()\n",
    "#CNN\n",
    "model.add(Conv2D(filters=64, kernel_size=3, activation='relu',input_shape=(win_length,feature_num,1)))\n",
    "model.add(Conv2D(filters=32, kernel_size=3, activation='relu'))\n",
    "model.add(Flatten())\n",
    "model.add(Dense(1, activation = 'linear'))\n",
    "\n",
    "model.compile(loss = 'mean_squared_error', optimizer='adam', metrics=['mean_squared_error'])\n",
    "#model.summary()"
   ]
  },
  {
   "cell_type": "code",
   "execution_count": 25,
   "id": "49180d8d",
   "metadata": {},
   "outputs": [
    {
     "ename": "NameError",
     "evalue": "name 'Data_format_conversion' is not defined",
     "output_type": "error",
     "traceback": [
      "\u001b[1;31m---------------------------------------------------------------------------\u001b[0m",
      "\u001b[1;31mNameError\u001b[0m                                 Traceback (most recent call last)",
      "Input \u001b[1;32mIn [25]\u001b[0m, in \u001b[0;36m<cell line: 3>\u001b[1;34m()\u001b[0m\n\u001b[0;32m      2\u001b[0m Train_no \u001b[38;5;241m=\u001b[39m \u001b[38;5;241m1\u001b[39m\n\u001b[0;32m      3\u001b[0m \u001b[38;5;28;01mfor\u001b[39;00m engine_no \u001b[38;5;129;01min\u001b[39;00m \u001b[38;5;28mrange\u001b[39m(\u001b[38;5;241m1\u001b[39m,\u001b[38;5;241m50\u001b[39m):\n\u001b[1;32m----> 4\u001b[0m     X,y,scaler,features \u001b[38;5;241m=\u001b[39m \u001b[43mData_format_conversion\u001b[49m(Train_no, engine_no)\n\u001b[0;32m      5\u001b[0m     model\u001b[38;5;241m.\u001b[39mfit(X,y,steps_per_epoch\u001b[38;5;241m=\u001b[39m\u001b[38;5;241m5\u001b[39m,epochs\u001b[38;5;241m=\u001b[39m\u001b[38;5;241m15\u001b[39m,shuffle\u001b[38;5;241m=\u001b[39m\u001b[38;5;28;01mFalse\u001b[39;00m,verbose\u001b[38;5;241m=\u001b[39m\u001b[38;5;241m0\u001b[39m)\n",
      "\u001b[1;31mNameError\u001b[0m: name 'Data_format_conversion' is not defined"
     ]
    }
   ],
   "source": [
    "########## Fitting the training data with CNN\n",
    "Train_no = 1\n",
    "for engine_no in range(1,50):\n",
    "    X,y,scaler,features = Data_format_conversion(Train_no, engine_no)\n",
    "    model.fit(X,y,steps_per_epoch=5,epochs=15,shuffle=False,verbose=0)"
   ]
  },
  {
   "cell_type": "markdown",
   "id": "e0270c7b",
   "metadata": {},
   "source": [
    "# Kaydedilen Modeli yükleme"
   ]
  },
  {
   "cell_type": "code",
   "execution_count": 26,
   "id": "074304dd",
   "metadata": {},
   "outputs": [
    {
     "ename": "ModuleNotFoundError",
     "evalue": "No module named 'keras'",
     "output_type": "error",
     "traceback": [
      "\u001b[1;31m---------------------------------------------------------------------------\u001b[0m",
      "\u001b[1;31mModuleNotFoundError\u001b[0m                       Traceback (most recent call last)",
      "Input \u001b[1;32mIn [26]\u001b[0m, in \u001b[0;36m<cell line: 1>\u001b[1;34m()\u001b[0m\n\u001b[1;32m----> 1\u001b[0m \u001b[38;5;28;01mfrom\u001b[39;00m \u001b[38;5;21;01mkeras\u001b[39;00m\u001b[38;5;21;01m.\u001b[39;00m\u001b[38;5;21;01mmodels\u001b[39;00m \u001b[38;5;28;01mimport\u001b[39;00m load_model\n\u001b[0;32m      3\u001b[0m \u001b[38;5;66;03m#load model\u001b[39;00m\n\u001b[0;32m      4\u001b[0m model \u001b[38;5;241m=\u001b[39m load_model(\u001b[38;5;124m'\u001b[39m\u001b[38;5;124mmodel_1.h5\u001b[39m\u001b[38;5;124m'\u001b[39m)\n",
      "\u001b[1;31mModuleNotFoundError\u001b[0m: No module named 'keras'"
     ]
    }
   ],
   "source": [
    "from keras.models import load_model\n",
    "\n",
    "#load model\n",
    "model = load_model('model_1.h5')"
   ]
  },
  {
   "cell_type": "markdown",
   "id": "283a7e06",
   "metadata": {},
   "source": [
    "# Eğitim Veri Setinde Tahmin Etme (Predict on Training Data) "
   ]
  },
  {
   "cell_type": "code",
   "execution_count": 28,
   "id": "fd6c1cbf",
   "metadata": {},
   "outputs": [
    {
     "ename": "NameError",
     "evalue": "name 'Data_format_conversion' is not defined",
     "output_type": "error",
     "traceback": [
      "\u001b[1;31m---------------------------------------------------------------------------\u001b[0m",
      "\u001b[1;31mNameError\u001b[0m                                 Traceback (most recent call last)",
      "Input \u001b[1;32mIn [28]\u001b[0m, in \u001b[0;36m<cell line: 3>\u001b[1;34m()\u001b[0m\n\u001b[0;32m      1\u001b[0m Train_no \u001b[38;5;241m=\u001b[39m \u001b[38;5;241m1\u001b[39m\n\u001b[0;32m      2\u001b[0m engine_id \u001b[38;5;241m=\u001b[39m \u001b[38;5;241m1\u001b[39m\n\u001b[1;32m----> 3\u001b[0m X,y,scaler,features\u001b[38;5;241m=\u001b[39m\u001b[43mData_format_conversion\u001b[49m(Train_no,engine_id)\n",
      "\u001b[1;31mNameError\u001b[0m: name 'Data_format_conversion' is not defined"
     ]
    }
   ],
   "source": [
    "Train_no = 1\n",
    "engine_id = 1\n",
    "X,y,scaler,features=Data_format_conversion(Train_no,engine_id)"
   ]
  },
  {
   "cell_type": "code",
   "execution_count": 27,
   "id": "39ab6e3e",
   "metadata": {},
   "outputs": [
    {
     "ename": "AttributeError",
     "evalue": "'list' object has no attribute 'shape'",
     "output_type": "error",
     "traceback": [
      "\u001b[1;31m---------------------------------------------------------------------------\u001b[0m",
      "\u001b[1;31mAttributeError\u001b[0m                            Traceback (most recent call last)",
      "Input \u001b[1;32mIn [27]\u001b[0m, in \u001b[0;36m<cell line: 1>\u001b[1;34m()\u001b[0m\n\u001b[1;32m----> 1\u001b[0m \u001b[43mX\u001b[49m\u001b[38;5;241;43m.\u001b[39;49m\u001b[43mshape\u001b[49m\n",
      "\u001b[1;31mAttributeError\u001b[0m: 'list' object has no attribute 'shape'"
     ]
    }
   ],
   "source": [
    "X.shape"
   ]
  },
  {
   "cell_type": "code",
   "execution_count": null,
   "id": "2d687a2c",
   "metadata": {},
   "outputs": [],
   "source": [
    "predition=model.predict(X) #### Prediction on trained data\n",
    "prediction"
   ]
  },
  {
   "cell_type": "code",
   "execution_count": null,
   "id": "606f4235",
   "metadata": {},
   "outputs": [],
   "source": [
    "len(features)"
   ]
  },
  {
   "cell_type": "code",
   "execution_count": null,
   "id": "28dadbf8",
   "metadata": {},
   "outputs": [],
   "source": [
    "rev_trans = pd.concat([pd.DataFrame(features[win_length:]),pd.DataFrame(prediction)], axis=1)\n",
    "rev_trans"
   ]
  },
  {
   "cell_type": "code",
   "execution_count": 30,
   "id": "90e25f22",
   "metadata": {},
   "outputs": [
    {
     "data": {
      "text/html": [
       "<div>\n",
       "<style scoped>\n",
       "    .dataframe tbody tr th:only-of-type {\n",
       "        vertical-align: middle;\n",
       "    }\n",
       "\n",
       "    .dataframe tbody tr th {\n",
       "        vertical-align: top;\n",
       "    }\n",
       "\n",
       "    .dataframe thead th {\n",
       "        text-align: right;\n",
       "    }\n",
       "</style>\n",
       "<table border=\"1\" class=\"dataframe\">\n",
       "  <thead>\n",
       "    <tr style=\"text-align: right;\">\n",
       "      <th></th>\n",
       "      <th>Cycle</th>\n",
       "      <th>SensorMeasure2</th>\n",
       "      <th>SensorMeasure3</th>\n",
       "      <th>SensorMeasure4</th>\n",
       "      <th>SensorMeasure7</th>\n",
       "      <th>SensorMeasure8</th>\n",
       "      <th>SensorMeasure11</th>\n",
       "      <th>SensorMeasure12</th>\n",
       "      <th>SensorMeasure13</th>\n",
       "      <th>SensorMeasure15</th>\n",
       "      <th>SensorMeasure17</th>\n",
       "      <th>SensorMeasure20</th>\n",
       "      <th>SensorMeasure21</th>\n",
       "      <th>RUL</th>\n",
       "    </tr>\n",
       "  </thead>\n",
       "  <tbody>\n",
       "    <tr>\n",
       "      <th>0</th>\n",
       "      <td>1</td>\n",
       "      <td>641.82</td>\n",
       "      <td>1589.70</td>\n",
       "      <td>1400.60</td>\n",
       "      <td>554.36</td>\n",
       "      <td>2388.06</td>\n",
       "      <td>47.47</td>\n",
       "      <td>521.66</td>\n",
       "      <td>2388.02</td>\n",
       "      <td>8.4195</td>\n",
       "      <td>392</td>\n",
       "      <td>39.06</td>\n",
       "      <td>23.4190</td>\n",
       "      <td>191</td>\n",
       "    </tr>\n",
       "    <tr>\n",
       "      <th>1</th>\n",
       "      <td>2</td>\n",
       "      <td>642.15</td>\n",
       "      <td>1591.82</td>\n",
       "      <td>1403.14</td>\n",
       "      <td>553.75</td>\n",
       "      <td>2388.04</td>\n",
       "      <td>47.49</td>\n",
       "      <td>522.28</td>\n",
       "      <td>2388.07</td>\n",
       "      <td>8.4318</td>\n",
       "      <td>392</td>\n",
       "      <td>39.00</td>\n",
       "      <td>23.4236</td>\n",
       "      <td>190</td>\n",
       "    </tr>\n",
       "    <tr>\n",
       "      <th>2</th>\n",
       "      <td>3</td>\n",
       "      <td>642.35</td>\n",
       "      <td>1587.99</td>\n",
       "      <td>1404.20</td>\n",
       "      <td>554.26</td>\n",
       "      <td>2388.08</td>\n",
       "      <td>47.27</td>\n",
       "      <td>522.42</td>\n",
       "      <td>2388.03</td>\n",
       "      <td>8.4178</td>\n",
       "      <td>390</td>\n",
       "      <td>38.95</td>\n",
       "      <td>23.3442</td>\n",
       "      <td>189</td>\n",
       "    </tr>\n",
       "    <tr>\n",
       "      <th>3</th>\n",
       "      <td>4</td>\n",
       "      <td>642.35</td>\n",
       "      <td>1582.79</td>\n",
       "      <td>1401.87</td>\n",
       "      <td>554.45</td>\n",
       "      <td>2388.11</td>\n",
       "      <td>47.13</td>\n",
       "      <td>522.86</td>\n",
       "      <td>2388.08</td>\n",
       "      <td>8.3682</td>\n",
       "      <td>392</td>\n",
       "      <td>38.88</td>\n",
       "      <td>23.3739</td>\n",
       "      <td>188</td>\n",
       "    </tr>\n",
       "    <tr>\n",
       "      <th>4</th>\n",
       "      <td>5</td>\n",
       "      <td>642.37</td>\n",
       "      <td>1582.85</td>\n",
       "      <td>1406.22</td>\n",
       "      <td>554.00</td>\n",
       "      <td>2388.06</td>\n",
       "      <td>47.28</td>\n",
       "      <td>522.19</td>\n",
       "      <td>2388.04</td>\n",
       "      <td>8.4294</td>\n",
       "      <td>393</td>\n",
       "      <td>38.90</td>\n",
       "      <td>23.4044</td>\n",
       "      <td>187</td>\n",
       "    </tr>\n",
       "    <tr>\n",
       "      <th>...</th>\n",
       "      <td>...</td>\n",
       "      <td>...</td>\n",
       "      <td>...</td>\n",
       "      <td>...</td>\n",
       "      <td>...</td>\n",
       "      <td>...</td>\n",
       "      <td>...</td>\n",
       "      <td>...</td>\n",
       "      <td>...</td>\n",
       "      <td>...</td>\n",
       "      <td>...</td>\n",
       "      <td>...</td>\n",
       "      <td>...</td>\n",
       "      <td>...</td>\n",
       "    </tr>\n",
       "    <tr>\n",
       "      <th>187</th>\n",
       "      <td>188</td>\n",
       "      <td>643.75</td>\n",
       "      <td>1602.38</td>\n",
       "      <td>1422.78</td>\n",
       "      <td>551.94</td>\n",
       "      <td>2388.31</td>\n",
       "      <td>48.00</td>\n",
       "      <td>519.79</td>\n",
       "      <td>2388.23</td>\n",
       "      <td>8.5207</td>\n",
       "      <td>396</td>\n",
       "      <td>38.51</td>\n",
       "      <td>22.9588</td>\n",
       "      <td>4</td>\n",
       "    </tr>\n",
       "    <tr>\n",
       "      <th>188</th>\n",
       "      <td>189</td>\n",
       "      <td>644.18</td>\n",
       "      <td>1596.17</td>\n",
       "      <td>1428.01</td>\n",
       "      <td>550.70</td>\n",
       "      <td>2388.27</td>\n",
       "      <td>48.08</td>\n",
       "      <td>519.58</td>\n",
       "      <td>2388.33</td>\n",
       "      <td>8.5183</td>\n",
       "      <td>395</td>\n",
       "      <td>38.48</td>\n",
       "      <td>23.1127</td>\n",
       "      <td>3</td>\n",
       "    </tr>\n",
       "    <tr>\n",
       "      <th>189</th>\n",
       "      <td>190</td>\n",
       "      <td>643.64</td>\n",
       "      <td>1599.22</td>\n",
       "      <td>1425.95</td>\n",
       "      <td>551.29</td>\n",
       "      <td>2388.29</td>\n",
       "      <td>48.33</td>\n",
       "      <td>520.04</td>\n",
       "      <td>2388.35</td>\n",
       "      <td>8.5223</td>\n",
       "      <td>398</td>\n",
       "      <td>38.49</td>\n",
       "      <td>23.0675</td>\n",
       "      <td>2</td>\n",
       "    </tr>\n",
       "    <tr>\n",
       "      <th>190</th>\n",
       "      <td>191</td>\n",
       "      <td>643.34</td>\n",
       "      <td>1602.36</td>\n",
       "      <td>1425.77</td>\n",
       "      <td>550.92</td>\n",
       "      <td>2388.28</td>\n",
       "      <td>48.15</td>\n",
       "      <td>519.57</td>\n",
       "      <td>2388.30</td>\n",
       "      <td>8.5174</td>\n",
       "      <td>394</td>\n",
       "      <td>38.45</td>\n",
       "      <td>23.1295</td>\n",
       "      <td>1</td>\n",
       "    </tr>\n",
       "    <tr>\n",
       "      <th>191</th>\n",
       "      <td>192</td>\n",
       "      <td>643.54</td>\n",
       "      <td>1601.41</td>\n",
       "      <td>1427.20</td>\n",
       "      <td>551.25</td>\n",
       "      <td>2388.32</td>\n",
       "      <td>48.25</td>\n",
       "      <td>520.08</td>\n",
       "      <td>2388.32</td>\n",
       "      <td>8.5113</td>\n",
       "      <td>396</td>\n",
       "      <td>38.48</td>\n",
       "      <td>22.9649</td>\n",
       "      <td>0</td>\n",
       "    </tr>\n",
       "  </tbody>\n",
       "</table>\n",
       "<p>192 rows × 14 columns</p>\n",
       "</div>"
      ],
      "text/plain": [
       "     Cycle  SensorMeasure2  SensorMeasure3  SensorMeasure4  SensorMeasure7  \\\n",
       "0        1          641.82         1589.70         1400.60          554.36   \n",
       "1        2          642.15         1591.82         1403.14          553.75   \n",
       "2        3          642.35         1587.99         1404.20          554.26   \n",
       "3        4          642.35         1582.79         1401.87          554.45   \n",
       "4        5          642.37         1582.85         1406.22          554.00   \n",
       "..     ...             ...             ...             ...             ...   \n",
       "187    188          643.75         1602.38         1422.78          551.94   \n",
       "188    189          644.18         1596.17         1428.01          550.70   \n",
       "189    190          643.64         1599.22         1425.95          551.29   \n",
       "190    191          643.34         1602.36         1425.77          550.92   \n",
       "191    192          643.54         1601.41         1427.20          551.25   \n",
       "\n",
       "     SensorMeasure8  SensorMeasure11  SensorMeasure12  SensorMeasure13  \\\n",
       "0           2388.06            47.47           521.66          2388.02   \n",
       "1           2388.04            47.49           522.28          2388.07   \n",
       "2           2388.08            47.27           522.42          2388.03   \n",
       "3           2388.11            47.13           522.86          2388.08   \n",
       "4           2388.06            47.28           522.19          2388.04   \n",
       "..              ...              ...              ...              ...   \n",
       "187         2388.31            48.00           519.79          2388.23   \n",
       "188         2388.27            48.08           519.58          2388.33   \n",
       "189         2388.29            48.33           520.04          2388.35   \n",
       "190         2388.28            48.15           519.57          2388.30   \n",
       "191         2388.32            48.25           520.08          2388.32   \n",
       "\n",
       "     SensorMeasure15  SensorMeasure17  SensorMeasure20  SensorMeasure21  RUL  \n",
       "0             8.4195              392            39.06          23.4190  191  \n",
       "1             8.4318              392            39.00          23.4236  190  \n",
       "2             8.4178              390            38.95          23.3442  189  \n",
       "3             8.3682              392            38.88          23.3739  188  \n",
       "4             8.4294              393            38.90          23.4044  187  \n",
       "..               ...              ...              ...              ...  ...  \n",
       "187           8.5207              396            38.51          22.9588    4  \n",
       "188           8.5183              395            38.48          23.1127    3  \n",
       "189           8.5223              398            38.49          23.0675    2  \n",
       "190           8.5174              394            38.45          23.1295    1  \n",
       "191           8.5113              396            38.48          22.9649    0  \n",
       "\n",
       "[192 rows x 14 columns]"
      ]
     },
     "execution_count": 30,
     "metadata": {},
     "output_type": "execute_result"
    }
   ],
   "source": [
    "df = pd.read_csv(\"Processed_Train_00{}.csv\".format(Train_no))\n",
    "df = df[df['ID']==engine_id]\n",
    "df_actual = df.drop(columns =['ID'])\n",
    "df_actual"
   ]
  },
  {
   "cell_type": "code",
   "execution_count": 31,
   "id": "cd31979d",
   "metadata": {},
   "outputs": [
    {
     "ename": "NameError",
     "evalue": "name 'metrics' is not defined",
     "output_type": "error",
     "traceback": [
      "\u001b[1;31m---------------------------------------------------------------------------\u001b[0m",
      "\u001b[1;31mNameError\u001b[0m                                 Traceback (most recent call last)",
      "Input \u001b[1;32mIn [31]\u001b[0m, in \u001b[0;36m<cell line: 1>\u001b[1;34m()\u001b[0m\n\u001b[1;32m----> 1\u001b[0m \u001b[38;5;28mprint\u001b[39m(\u001b[38;5;124m'\u001b[39m\u001b[38;5;124mBu Veri Seti için RMSE Değeri:\u001b[39m\u001b[38;5;124m'\u001b[39m, np\u001b[38;5;241m.\u001b[39msqrt(\u001b[43mmetrics\u001b[49m\u001b[38;5;241m.\u001b[39mmean_squared_error(df[actual[\u001b[38;5;124m'\u001b[39m\u001b[38;5;124mRUL\u001b[39m\u001b[38;5;124m'\u001b[39m][win_length:],rev_trans[\u001b[38;5;241m13\u001b[39m]])))\n",
      "\u001b[1;31mNameError\u001b[0m: name 'metrics' is not defined"
     ]
    }
   ],
   "source": [
    "print('Bu Veri Seti için RMSE Değeri:', np.sqrt(metrics.mean_squared_error(df[actual['RUL'][win_length:],rev_trans[13]])))"
   ]
  },
  {
   "cell_type": "code",
   "execution_count": 32,
   "id": "2280a09a",
   "metadata": {},
   "outputs": [
    {
     "ename": "NameError",
     "evalue": "name 'rev_trans' is not defined",
     "output_type": "error",
     "traceback": [
      "\u001b[1;31m---------------------------------------------------------------------------\u001b[0m",
      "\u001b[1;31mNameError\u001b[0m                                 Traceback (most recent call last)",
      "Input \u001b[1;32mIn [32]\u001b[0m, in \u001b[0;36m<cell line: 2>\u001b[1;34m()\u001b[0m\n\u001b[0;32m      1\u001b[0m plt\u001b[38;5;241m.\u001b[39mplot(df_actual[\u001b[38;5;124m'\u001b[39m\u001b[38;5;124mCycle\u001b[39m\u001b[38;5;124m'\u001b[39m][win_length:],df_actual[\u001b[38;5;124m'\u001b[39m\u001b[38;5;124mRUL\u001b[39m\u001b[38;5;124m'\u001b[39m][win_length:])\n\u001b[1;32m----> 2\u001b[0m plt\u001b[38;5;241m.\u001b[39mplot(\u001b[43mrev_trans\u001b[49m[\u001b[38;5;241m0\u001b[39m], rev_trans[\u001b[38;5;241m13\u001b[39m])\n\u001b[0;32m      3\u001b[0m plt\u001b[38;5;241m.\u001b[39mylabel(\u001b[38;5;124m'\u001b[39m\u001b[38;5;124mRUL\u001b[39m\u001b[38;5;124m'\u001b[39m)\n\u001b[0;32m      4\u001b[0m plt\u001b[38;5;241m.\u001b[39mxlabel(\u001b[38;5;124m'\u001b[39m\u001b[38;5;124mCycle\u001b[39m\u001b[38;5;124m'\u001b[39m)\n",
      "\u001b[1;31mNameError\u001b[0m: name 'rev_trans' is not defined"
     ]
    },
    {
     "data": {
      "image/png": "[encoded data removed]",
      "text/plain": [
       "<Figure size 432x288 with 1 Axes>"
      ]
     },
     "metadata": {
      "needs_background": "light"
     },
     "output_type": "display_data"
    }
   ],
   "source": [
    "plt.plot(df_actual['Cycle'][win_length:],df_actual['RUL'][win_length:])\n",
    "plt.plot(rev_trans[0], rev_trans[13])\n",
    "plt.ylabel('RUL')\n",
    "plt.xlabel('Cycle')\n",
    "plt.title('Motor Numarası: {}'.format(engine_id))\n",
    "plt.legend(['Actual','Prediction'], loc = 'upper right')\n",
    "plt.show()\n",
    "print('\\n')"
   ]
  },
  {
   "cell_type": "code",
   "execution_count": null,
   "id": "a8de30d6",
   "metadata": {},
   "outputs": [],
   "source": []
  }
 ],
 "metadata": {
  "kernelspec": {
   "display_name": "Python 3 (ipykernel)",
   "language": "python",
   "name": "python3"
  },
  "language_info": {
   "codemirror_mode": {
    "name": "ipython",
    "version": 3
   },
   "file_extension": ".py",
   "mimetype": "text/x-python",
   "name": "python",
   "nbconvert_exporter": "python",
   "pygments_lexer": "ipython3",
   "version": "3.9.12"
  }
 },
 "nbformat": 4,
 "nbformat_minor": 5
}
